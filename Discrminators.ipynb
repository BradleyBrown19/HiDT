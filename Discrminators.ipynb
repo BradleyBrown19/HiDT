{
 "cells": [
  {
   "cell_type": "code",
   "execution_count": null,
   "metadata": {},
   "outputs": [],
   "source": [
    "#default_exp discriminators"
   ]
  },
  {
   "cell_type": "code",
   "execution_count": 33,
   "metadata": {},
   "outputs": [],
   "source": [
    "#export\n",
    "#hide\n",
    "from fastai import *\n",
    "from fastai.vision import *\n",
    "from fastai.callbacks import *\n",
    "from fastai.utils.mem import *\n",
    "from fastai.vision.gan import *\n",
    "from PIL import Image\n",
    "\n",
    "import numpy as np\n",
    "\n",
    "import torch\n",
    "import torch.nn.functional as F\n",
    "import torch.nn as nn\n",
    "from torch.nn import utils\n",
    "from torch.nn import init\n",
    "\n",
    "from torch.utils.data import DataLoader\n",
    "from torch.utils.data.dataset import TensorDataset\n",
    "import pdb\n",
    "from HiDT.building_blocks import *"
   ]
  },
  {
   "cell_type": "markdown",
   "metadata": {},
   "source": [
    "# Projection Based Conditional Discriminator"
   ]
  },
  {
   "cell_type": "code",
   "execution_count": 56,
   "metadata": {},
   "outputs": [],
   "source": [
    "#export\n",
    "class ProjectionDiscriminator(nn.Module):\n",
    "    \"Projection based discrminator, adapted from: https://github.com/XHChen0528/SNGAN_Projection_Pytorch\"\n",
    "    def __init__(self, num_feat=64, num_classes=0, activation=nn.ReLU()):\n",
    "        super().__init__()\n",
    "        self.num_feat = num_feat\n",
    "        self.num_classes = num_classes\n",
    "        self.activation = activation\n",
    "        \n",
    "        self.blocks = [OptimizedBlock(3, num_feat)]\n",
    "        self.blocks.extend([\n",
    "            DisResBlock(num_feat*(2**i), num_feat*(2**(i+1)), downsample=True) for i in range(4)\n",
    "        ])\n",
    "\n",
    "        self.l6 = torch.nn.utils.spectral_norm(nn.Linear(num_feat * 16, 1))\n",
    "        self.style = torch.nn.utils.spectral_norm(\n",
    "                nn.Linear(3, num_feat * 16))\n",
    "\n",
    "        self._initialize()\n",
    "\n",
    "    def _initialize(self):\n",
    "        init.xavier_uniform_(self.l6.weight.data)\n",
    "        optional_l_y = getattr(self, 'l_y', None)\n",
    "        if optional_l_y is not None:\n",
    "            init.xavier_uniform_(optional_l_y.weight.data)\n",
    "\n",
    "    def forward(self, x, y=None):\n",
    "        for block in self.blocks:\n",
    "            x = block(x)\n",
    "            \n",
    "        h = self.activation(x)\n",
    "        \n",
    "        h = torch.sum(h, dim=(2, 3))\n",
    "        \n",
    "        output = self.l6(h)\n",
    "\n",
    "        if y is not None:\n",
    "            output += torch.sum(self.style(y) * h, dim=1, keepdim=True)\n",
    "            \n",
    "        return output"
   ]
  },
  {
   "cell_type": "code",
   "execution_count": 57,
   "metadata": {},
   "outputs": [],
   "source": [
    "inp = torch.randn(4, 3, 256, 256)"
   ]
  },
  {
   "cell_type": "code",
   "execution_count": 58,
   "metadata": {},
   "outputs": [],
   "source": [
    "dis = ProjectionDiscriminator()"
   ]
  },
  {
   "cell_type": "code",
   "execution_count": 59,
   "metadata": {},
   "outputs": [
    {
     "data": {
      "text/plain": [
       "torch.Size([4, 1])"
      ]
     },
     "execution_count": 59,
     "metadata": {},
     "output_type": "execute_result"
    }
   ],
   "source": [
    "dis(inp).shape"
   ]
  },
  {
   "cell_type": "code",
   "execution_count": null,
   "metadata": {},
   "outputs": [],
   "source": []
  },
  {
   "cell_type": "markdown",
   "metadata": {},
   "source": [
    "# Unconditional Discriminator"
   ]
  },
  {
   "cell_type": "code",
   "execution_count": 16,
   "metadata": {},
   "outputs": [],
   "source": [
    "#export\n",
    "class UnconditionalDiscriminator(nn.Module):\n",
    "    def __init__(self):\n",
    "        super().__init__()\n",
    "        self.model = nn.Sequential(\n",
    "            nn.Conv2d(3, 64, 3, 2, 1),\n",
    "            conv_and_res(64, 128),\n",
    "            conv_and_res(128, 256),\n",
    "            conv_and_res(256, 512),\n",
    "            nn.Conv2d(512, 1, 3, stride=1),\n",
    "            Flatten(),\n",
    "            nn.Linear(144, 1)\n",
    "        )\n",
    "    \n",
    "    def forward(self, xb):\n",
    "        return self.model(xb)"
   ]
  },
  {
   "cell_type": "code",
   "execution_count": 17,
   "metadata": {},
   "outputs": [],
   "source": [
    "inp = torch.randn(4, 3, 256, 256)"
   ]
  },
  {
   "cell_type": "code",
   "execution_count": 18,
   "metadata": {},
   "outputs": [],
   "source": [
    "dis = UnconditionalDiscrminator()"
   ]
  },
  {
   "cell_type": "code",
   "execution_count": 19,
   "metadata": {},
   "outputs": [
    {
     "data": {
      "text/plain": [
       "torch.Size([4, 1])"
      ]
     },
     "execution_count": 19,
     "metadata": {},
     "output_type": "execute_result"
    }
   ],
   "source": [
    "dis(inp).shape"
   ]
  },
  {
   "cell_type": "code",
   "execution_count": null,
   "metadata": {},
   "outputs": [],
   "source": []
  }
 ],
 "metadata": {
  "kernelspec": {
   "display_name": "Python 3",
   "language": "python",
   "name": "python3"
  },
  "language_info": {
   "codemirror_mode": {
    "name": "ipython",
    "version": 3
   },
   "file_extension": ".py",
   "mimetype": "text/x-python",
   "name": "python",
   "nbconvert_exporter": "python",
   "pygments_lexer": "ipython3",
   "version": "3.7.2"
  }
 },
 "nbformat": 4,
 "nbformat_minor": 2
}
